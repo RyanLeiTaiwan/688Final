{
 "cells": [
  {
   "cell_type": "markdown",
   "metadata": {},
   "source": [
    "# Overall Statistics\n",
    "\n",
    "This notebook contains overall statistics of the `PA-2016` (Pennsylvania, year 2016) dataset and should be Part 1 of our presentation."
   ]
  },
  {
   "cell_type": "markdown",
   "metadata": {},
   "source": [
    "## Neccesary Pre-processing Goes Here\n",
    "\n",
    "Cells are copied from the main notebook."
   ]
  },
  {
   "cell_type": "code",
   "execution_count": 1,
   "metadata": {},
   "outputs": [],
   "source": [
    "import collections\n",
    "import numpy as np\n",
    "import pandas as pd\n",
    "import seaborn as sns\n",
    "import math\n",
    "import matplotlib.pyplot as plt\n",
    "%matplotlib inline"
   ]
  },
  {
   "cell_type": "code",
   "execution_count": 2,
   "metadata": {},
   "outputs": [],
   "source": [
    "# Display otpions\n",
    "pd.set_option(\"display.max_columns\", 100)\n",
    "pd.set_option(\"display.max_rows\", 100)\n",
    "pd.set_option(\"max_colwidth\", 100)\n",
    "np.set_printoptions(linewidth=100)"
   ]
  },
  {
   "cell_type": "code",
   "execution_count": 3,
   "metadata": {},
   "outputs": [],
   "source": [
    "# 11 primary (more important) tables\n",
    "# Note that one incident is associated with up to 10 offenses\n",
    "primaryTables = [\n",
    "    \"nibrs_arrestee\", \"nibrs_bias_motivation\", \"nibrs_incident\", \"nibrs_month\",\n",
    "    \"nibrs_offender\", \"nibrs_offense\", \"nibrs_property_desc\", \"nibrs_property\",\n",
    "    \"nibrs_victim_injury\", \"nibrs_victim_offender_rel\", \"nibrs_victim\"\n",
    "]\n",
    "\n",
    "# 23 lookup tables as a dictionary of {table_name: (oldCol, newCol)} format\n",
    "lookupTables = {\n",
    "    \"nibrs_activity_type\": None, \"nibrs_age\": None, \"nibrs_arrest_type\": None, \n",
    "    \"nibrs_assignment_type\": None, \"nibrs_bias_list\": None, \"nibrs_circumstances\": None,\n",
    "    \"nibrs_cleared_except\": None,\n",
    "    \"nibrs_criminal_act_type\": (\"criminal_act_id\", \"criminal_act_name\"),\n",
    "    \"nibrs_drug_measure_type\": None, \"nibrs_ethnicity\": None,\n",
    "    \"nibrs_injury\": None, \"nibrs_justifiable_force\": None,\n",
    "    \"nibrs_location_type\": (\"location_id\", \"location_name\"),\n",
    "    \"nibrs_offense_type\" : (\"offense_type_id\", \"offense_name\"), \"nibrs_prop_desc_type\": None,\n",
    "    \"nibrs_prop_loss_type\": None,\n",
    "    \"nibrs_relationship\": (\"relationship_id\", \"relationship_name\"),\n",
    "    \"nibrs_suspected_drug_type\": None, \"nibrs_using_list\": None,\n",
    "    \"nibrs_victim_type\": (\"victim_type_id\", \"victim_type_name\"),\n",
    "    \"nibrs_weapon_type\": None, \"ref_race\": None, \"ref_state\": None\n",
    "}\n",
    "\n",
    "# 9 secondary (less important, just for human differentiation) tables\n",
    "secondaryTables = [\n",
    "    \"agency_participation\", \"cde_agencies\", \"nibrs_arrestee_weapon\", \"nibrs_criminal_act\",\n",
    "    \"nibrs_suspected_drug\", \"nibrs_suspect_using\", \"nibrs_victim_circumstances\",\n",
    "    \"nibrs_victim_offense\", \"nibrs_weapon\"\n",
    "]"
   ]
  },
  {
   "cell_type": "code",
   "execution_count": 4,
   "metadata": {},
   "outputs": [
    {
     "name": "stdout",
     "output_type": "stream",
     "text": [
      "Reading all CSVs for PA-2016 dataset...\n",
      "Finished reading 43 CSVs\n"
     ]
    }
   ],
   "source": [
    "def readCSVs(dataset):\n",
    "    \"\"\"\n",
    "    Read DataFrames into a dictionary with table names as keys\n",
    "    Args:\n",
    "        dataset (string): NIBRS dataset name, e.g., SC-2016\n",
    "    Return:\n",
    "        dic (dictionary): dictionary of DataFrames\n",
    "    \"\"\"\n",
    "    print('Reading all CSVs for %s dataset...' % dataset)\n",
    "    dic = {}\n",
    "    for table in primaryTables + list(lookupTables.keys()) + secondaryTables:\n",
    "        dic[table] = pd.read_csv(\"%s/%s.csv\" % (dataset, table))\n",
    "    print('Finished reading %d CSVs' % len(dic))\n",
    "    return dic\n",
    "\n",
    "PA2016 = readCSVs('PA-2016')\n",
    "# SC2016 = readCSVs('SC-2016')"
   ]
  },
  {
   "cell_type": "code",
   "execution_count": 5,
   "metadata": {},
   "outputs": [
    {
     "name": "stdout",
     "output_type": "stream",
     "text": [
      "Creating lookup table mappings...\n",
      "Finished creating mappings from 5 lookup tables\n"
     ]
    }
   ],
   "source": [
    "# Replace a col with a specified mapping dict:\n",
    "# https://pandas.pydata.org/pandas-docs/stable/generated/pandas.DataFrame.replace.html\n",
    "# https://stackoverflow.com/questions/20250771/remap-values-in-pandas-column-with-a-dict\n",
    "def createMappings(dfs):\n",
    "    \"\"\"\n",
    "    Create a nested dictionary of mappings \n",
    "    Args:\n",
    "        dfs (dictionary): dictionary of DataFrames previously read\n",
    "    Return:\n",
    "        mappings (nested dictionary): {(oldCol, newCol): {oldValue: newValue}}\n",
    "    \"\"\"\n",
    "    print('Creating lookup table mappings...')\n",
    "    mappings = {}\n",
    "    for table in lookupTables:\n",
    "        # Only handle those with defined mapping\n",
    "        if lookupTables[table] is not None:\n",
    "            oldCol, newCol = lookupTables[table]\n",
    "            mappings[(oldCol, newCol)] = dict(zip(dfs[table][oldCol], dfs[table][newCol]))\n",
    "    print('Finished creating mappings from %d lookup tables' % len(mappings))\n",
    "    return mappings\n",
    "\n",
    "maps = createMappings(PA2016)"
   ]
  },
  {
   "cell_type": "code",
   "execution_count": 6,
   "metadata": {},
   "outputs": [
    {
     "name": "stdout",
     "output_type": "stream",
     "text": [
      "Replacing and Renaming columns...\n",
      "Done\n"
     ]
    }
   ],
   "source": [
    "def replaceAndRename(df, lookupTableNames):\n",
    "    \"\"\"\n",
    "    Replace and rename DataFrame columns in place.\n",
    "    Args:\n",
    "        df (DataFrame): DataFrame to be replaced\n",
    "        lookupTableNames (list): List of lookup table names for replacing and renaming\n",
    "    \"\"\"\n",
    "    # Call df.replace() and df.rename() once for each changing column\n",
    "    for lookupTableName in lookupTableNames:\n",
    "        # Build the nested dictionary required by df.replace()\n",
    "        oldCol, newCol = lookupTables[lookupTableName]\n",
    "        dic = {oldCol: maps[(oldCol, newCol)]}        \n",
    "        df.replace(dic, inplace=True)\n",
    "        df.rename(columns={oldCol: newCol}, inplace=True)\n",
    "\n",
    "print('Replacing and Renaming columns...')\n",
    "replaceAndRename(PA2016['nibrs_offense'], ['nibrs_location_type', 'nibrs_offense_type'])\n",
    "replaceAndRename(PA2016['nibrs_victim'], ['nibrs_victim_type'])\n",
    "replaceAndRename(PA2016['nibrs_victim_offender_rel'], ['nibrs_relationship'])\n",
    "print('Done')\n",
    "# SC2016['nibrs_offense'].head()\n",
    "# SC2016['nibrs_victim'].head()"
   ]
  },
  {
   "cell_type": "code",
   "execution_count": 7,
   "metadata": {},
   "outputs": [],
   "source": [
    "# Helper function for plotting sns.countplot given df, col, and topK\n",
    "def countPlot(df, col, topK=None, dpi = 100):\n",
    "    plt.figure(figsize=(8,6), dpi=dpi)\n",
    "    # Only show top K counts. Default: all counts\n",
    "    sns.countplot(y = df[col], order = df[col].value_counts().index[:topK])"
   ]
  },
  {
   "cell_type": "markdown",
   "metadata": {},
   "source": [
    "## Exploratory Data Analysis: Overall Statistics"
   ]
  },
  {
   "cell_type": "markdown",
   "metadata": {},
   "source": [
    "Due to the schema design of the incident and offense DataFrames, it is more convenient to \n",
    "merge them from the beginning. Let's name it as `incident_offense`."
   ]
  },
  {
   "cell_type": "code",
   "execution_count": 8,
   "metadata": {},
   "outputs": [
    {
     "data": {
      "text/plain": [
       "dict_keys(['nibrs_arrestee', 'nibrs_bias_motivation', 'nibrs_incident', 'nibrs_month', 'nibrs_offender', 'nibrs_offense', 'nibrs_property_desc', 'nibrs_property', 'nibrs_victim_injury', 'nibrs_victim_offender_rel', 'nibrs_victim', 'nibrs_activity_type', 'nibrs_age', 'nibrs_arrest_type', 'nibrs_assignment_type', 'nibrs_bias_list', 'nibrs_circumstances', 'nibrs_cleared_except', 'nibrs_criminal_act_type', 'nibrs_drug_measure_type', 'nibrs_ethnicity', 'nibrs_injury', 'nibrs_justifiable_force', 'nibrs_location_type', 'nibrs_offense_type', 'nibrs_prop_desc_type', 'nibrs_prop_loss_type', 'nibrs_relationship', 'nibrs_suspected_drug_type', 'nibrs_using_list', 'nibrs_victim_type', 'nibrs_weapon_type', 'ref_race', 'ref_state', 'agency_participation', 'cde_agencies', 'nibrs_arrestee_weapon', 'nibrs_criminal_act', 'nibrs_suspected_drug', 'nibrs_suspect_using', 'nibrs_victim_circumstances', 'nibrs_victim_offense', 'nibrs_weapon'])"
      ]
     },
     "execution_count": 8,
     "metadata": {},
     "output_type": "execute_result"
    }
   ],
   "source": [
    "# Temp\n",
    "PA2016.keys()"
   ]
  },
  {
   "cell_type": "code",
   "execution_count": 9,
   "metadata": {},
   "outputs": [
    {
     "name": "stdout",
     "output_type": "stream",
     "text": [
      "There are a total of 5235 inccidents, 6107 offenses (1.17 offenses per incident)\n"
     ]
    }
   ],
   "source": [
    "# PA2016['incident_offense'] = PA2016['nibrs_incident'].merge()\n",
    "nIncidents = len(PA2016['nibrs_incident'])\n",
    "nOffenses = len(PA2016['nibrs_offense'])\n",
    "print('There are a total of %d inccidents, %d offenses (%.2f offenses per incident)' %\n",
    "      (nIncidents, nOffenses, nOffenses / nIncidents))\n"
   ]
  },
  {
   "cell_type": "code",
   "execution_count": 10,
   "metadata": {},
   "outputs": [],
   "source": [
    "# Join incident and offense DFs"
   ]
  },
  {
   "cell_type": "markdown",
   "metadata": {},
   "source": [
    "### Merge Incident and Offense DF"
   ]
  },
  {
   "cell_type": "code",
   "execution_count": 11,
   "metadata": {},
   "outputs": [
    {
     "ename": "NameError",
     "evalue": "name 'incidentDF' is not defined",
     "output_type": "error",
     "traceback": [
      "\u001b[0;31m---------------------------------------------------------------------------\u001b[0m",
      "\u001b[0;31mNameError\u001b[0m                                 Traceback (most recent call last)",
      "\u001b[0;32m<ipython-input-11-82f973f4bc04>\u001b[0m in \u001b[0;36m<module>\u001b[0;34m()\u001b[0m\n\u001b[0;32m----> 1\u001b[0;31m \u001b[0mincidentOffenseJoinDF\u001b[0m \u001b[0;34m=\u001b[0m \u001b[0mincidentDF\u001b[0m\u001b[0;34m.\u001b[0m\u001b[0mmerge\u001b[0m\u001b[0;34m(\u001b[0m\u001b[0moffenseDF\u001b[0m\u001b[0;34m,\u001b[0m \u001b[0mon\u001b[0m\u001b[0;34m=\u001b[0m\u001b[0;34m'incident_id'\u001b[0m\u001b[0;34m)\u001b[0m\u001b[0;34m\u001b[0m\u001b[0m\n\u001b[0m\u001b[1;32m      2\u001b[0m \u001b[0;31m# Indeed, all offenses map to one incident\u001b[0m\u001b[0;34m\u001b[0m\u001b[0;34m\u001b[0m\u001b[0m\n\u001b[1;32m      3\u001b[0m \u001b[0mprint\u001b[0m\u001b[0;34m(\u001b[0m\u001b[0;34m'len(incidentOffenseJoinDF): %d'\u001b[0m \u001b[0;34m%\u001b[0m \u001b[0mlen\u001b[0m\u001b[0;34m(\u001b[0m\u001b[0mincidentOffenseJoinDF\u001b[0m\u001b[0;34m)\u001b[0m\u001b[0;34m)\u001b[0m\u001b[0;34m\u001b[0m\u001b[0m\n",
      "\u001b[0;31mNameError\u001b[0m: name 'incidentDF' is not defined"
     ]
    }
   ],
   "source": [
    "incidentOffenseJoinDF = incidentDF.merge(offenseDF, on='incident_id')\n",
    "# Indeed, all offenses map to one incident\n",
    "print('len(incidentOffenseJoinDF): %d' % len(incidentOffenseJoinDF))"
   ]
  },
  {
   "cell_type": "code",
   "execution_count": null,
   "metadata": {},
   "outputs": [],
   "source": [
    "incidentOffenseJoinDF.head()"
   ]
  },
  {
   "cell_type": "code",
   "execution_count": null,
   "metadata": {},
   "outputs": [],
   "source": [
    "incidentOffenseJoinDF.replace({\"nibrs_month_id\": monthMapping, \"offense_type_id\": offenseTypeMapping}, inplace=True)"
   ]
  },
  {
   "cell_type": "code",
   "execution_count": null,
   "metadata": {},
   "outputs": [],
   "source": [
    "# Offense distribution by month\n",
    "incidentOffenseJoinDF[[\"nibrs_month_id\", \"offense_id\"]].groupby(\"nibrs_month_id\").count()"
   ]
  },
  {
   "cell_type": "code",
   "execution_count": null,
   "metadata": {},
   "outputs": [],
   "source": [
    "# Offense distribution by (offense type, month)\n",
    "offenseTypeByMonth = incidentOffenseJoinDF\\\n",
    "    .groupby([\"offense_type_id\", \"nibrs_month_id\"])[\"offense_id\"].count()\\\n",
    "    .unstack(fill_value=0).as_matrix()\n",
    "offenseTypeByMonth"
   ]
  },
  {
   "cell_type": "code",
   "execution_count": null,
   "metadata": {},
   "outputs": [],
   "source": [
    "peakMonth = np.argmax(offenseTypeByMonth, axis=1) + 1\n",
    "offMonth = np.argmin(offenseTypeByMonth, axis=1) + 1\n",
    "print(\"<Offense Type, Peak Month, Off Month>\")\n",
    "list(zip(sorted(incidentOffenseJoinDF[\"offense_type_id\"].unique()), peakMonth, offMonth))"
   ]
  },
  {
   "cell_type": "code",
   "execution_count": null,
   "metadata": {},
   "outputs": [],
   "source": []
  },
  {
   "cell_type": "code",
   "execution_count": null,
   "metadata": {},
   "outputs": [],
   "source": []
  }
 ],
 "metadata": {
  "kernelspec": {
   "display_name": "Python 3",
   "language": "python",
   "name": "python3"
  },
  "language_info": {
   "codemirror_mode": {
    "name": "ipython",
    "version": 3
   },
   "file_extension": ".py",
   "mimetype": "text/x-python",
   "name": "python",
   "nbconvert_exporter": "python",
   "pygments_lexer": "ipython3",
   "version": "3.6.5"
  }
 },
 "nbformat": 4,
 "nbformat_minor": 2
}
