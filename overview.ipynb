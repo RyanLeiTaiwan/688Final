{
 "cells": [
  {
   "cell_type": "markdown",
   "metadata": {},
   "source": [
    "# Overview\n",
    "\n",
    "This notebook contains overview statistics of the `PA-2016` (Pennsylvania, year 2016) dataset and should be Part 1 of our presentation."
   ]
  },
  {
   "cell_type": "markdown",
   "metadata": {},
   "source": [
    "## Neccesary Pre-processing Goes Here\n",
    "\n",
    "Cells are copied from the main notebook."
   ]
  },
  {
   "cell_type": "code",
   "execution_count": 1,
   "metadata": {},
   "outputs": [],
   "source": [
    "import collections\n",
    "import numpy as np\n",
    "import pandas as pd\n",
    "import seaborn as sns\n",
    "import math\n",
    "import matplotlib.pyplot as plt\n",
    "%matplotlib inline"
   ]
  },
  {
   "cell_type": "code",
   "execution_count": 2,
   "metadata": {},
   "outputs": [],
   "source": [
    "# Display otpions\n",
    "pd.set_option('display.max_columns', 100)\n",
    "pd.set_option('display.max_rows', 100)\n",
    "pd.set_option('max_colwidth', 100)\n",
    "np.set_printoptions(linewidth=100)"
   ]
  },
  {
   "cell_type": "code",
   "execution_count": 3,
   "metadata": {},
   "outputs": [],
   "source": [
    "# TODO: merge into main notebook\n",
    "\n",
    "# 10 primary (more important) tables\n",
    "# Note that one incident is associated with up to 10 offenses\n",
    "primaryTables = [\n",
    "    'nibrs_arrestee', 'nibrs_bias_motivation', 'nibrs_incident',\n",
    "    'nibrs_offender', 'nibrs_offense', 'nibrs_property_desc', 'nibrs_property',\n",
    "    'nibrs_victim_injury', 'nibrs_victim_offender_rel', 'nibrs_victim'\n",
    "]\n",
    "\n",
    "# 24 lookup tables as a dictionary of {table_name: (oldCol, newCol)} format\n",
    "lookupTables = {\n",
    "    'nibrs_activity_type': ('activity_type_id', 'activity_type_name'),\n",
    "    'nibrs_age': ('age_id', 'age_name'),\n",
    "    'nibrs_arrest_type': ('arrest_type_id', 'arrest_type_name'), \n",
    "    'nibrs_assignment_type': ('assignment_type_id', 'assignment_type_name'),\n",
    "    'nibrs_bias_list': ('bias_id', 'bias_name'),\n",
    "    'nibrs_circumstances': ('circumstances_id', 'circumstances_name'),\n",
    "    'nibrs_cleared_except': ('cleared_except_id', 'cleared_except_name'),\n",
    "    'nibrs_criminal_act_type': ('criminal_act_id', 'criminal_act_name'),\n",
    "    'nibrs_drug_measure_type': ('drug_measure_type_id', 'drug_measure_name'),\n",
    "    'nibrs_ethnicity': ('ethnicity_id', 'ethnicity_name'),\n",
    "    'nibrs_injury': ('injury_id', 'injury_name'),\n",
    "    'nibrs_justifiable_force': ('justifiable_force_id', 'justifiable_force_name'),\n",
    "    'nibrs_location_type': ('location_id', 'location_name'),\n",
    "    'nibrs_month': ('nibrs_month_id', 'month_num'),\n",
    "    'nibrs_offense_type' : ('offense_type_id', 'offense_name'),\n",
    "    'nibrs_prop_desc_type': ('prop_desc_id', 'prop_desc_name'),\n",
    "    'nibrs_prop_loss_type': ('prop_loss_id', 'prop_loss_name'),\n",
    "    'nibrs_relationship': ('relationship_id', 'relationship_name'),\n",
    "    'nibrs_suspected_drug_type': ('suspected_drug_type_id', 'suspected_drug_name'),\n",
    "    'nibrs_using_list': ('suspect_using_id', 'suspect_using_name'),\n",
    "    'nibrs_victim_type': ('victim_type_id', 'victim_type_name'),\n",
    "    'nibrs_weapon_type': ('weapon_id', 'weapon_name'),\n",
    "    'ref_race': ('race_id', 'race_desc'),\n",
    "    'ref_state': ('state_id', 'state_name')\n",
    "}\n",
    "\n",
    "# 9 secondary (less important, just for human differentiation) tables\n",
    "secondaryTables = [\n",
    "    'agency_participation', 'cde_agencies', 'nibrs_arrestee_weapon', 'nibrs_criminal_act',\n",
    "    'nibrs_suspected_drug', 'nibrs_suspect_using', 'nibrs_victim_circumstances',\n",
    "    'nibrs_victim_offense', 'nibrs_weapon'\n",
    "]"
   ]
  },
  {
   "cell_type": "code",
   "execution_count": 4,
   "metadata": {},
   "outputs": [
    {
     "name": "stdout",
     "output_type": "stream",
     "text": [
      "Reading all CSVs for PA-2016 dataset...\n",
      "Finished reading 43 CSVs\n"
     ]
    }
   ],
   "source": [
    "def readCSVs(dataset):\n",
    "    \"\"\"\n",
    "    Read DataFrames into a dictionary with table names as keys\n",
    "    Args:\n",
    "        dataset (string): NIBRS dataset name, e.g., SC-2016\n",
    "    Return:\n",
    "        dic (dictionary): dictionary of DataFrames\n",
    "    \"\"\"\n",
    "    print('Reading all CSVs for %s dataset...' % dataset)\n",
    "    dic = {}\n",
    "    for table in primaryTables + list(lookupTables.keys()) + secondaryTables:\n",
    "        dic[table] = pd.read_csv(\"%s/%s.csv\" % (dataset, table))\n",
    "    print('Finished reading %d CSVs' % len(dic))\n",
    "    return dic\n",
    "\n",
    "PA2016 = readCSVs('PA-2016')\n",
    "# SC2016 = readCSVs('SC-2016')"
   ]
  },
  {
   "cell_type": "code",
   "execution_count": 5,
   "metadata": {},
   "outputs": [
    {
     "name": "stdout",
     "output_type": "stream",
     "text": [
      "Creating lookup table mappings...\n",
      "Finished creating mappings from 24 lookup tables\n"
     ]
    }
   ],
   "source": [
    "# Replace a col with a specified mapping dict:\n",
    "# https://pandas.pydata.org/pandas-docs/stable/generated/pandas.DataFrame.replace.html\n",
    "# https://stackoverflow.com/questions/20250771/remap-values-in-pandas-column-with-a-dict\n",
    "def createMappings(dfs):\n",
    "    \"\"\"\n",
    "    Create a nested dictionary of mappings \n",
    "    Args:\n",
    "        dfs (dictionary): dictionary of DataFrames previously read\n",
    "    Return:\n",
    "        mappings (nested dictionary): {(oldCol, newCol): {oldValue: newValue}}\n",
    "    \"\"\"\n",
    "    print('Creating lookup table mappings...')\n",
    "    mappings = {}\n",
    "    for table in lookupTables:\n",
    "        # Only handle those with defined mapping\n",
    "        if lookupTables[table] is not None:\n",
    "            oldCol, newCol = lookupTables[table]\n",
    "            mappings[(oldCol, newCol)] = dict(zip(dfs[table][oldCol], dfs[table][newCol]))\n",
    "    print('Finished creating mappings from %d lookup tables' % len(mappings))\n",
    "    return mappings\n",
    "\n",
    "maps = createMappings(PA2016)"
   ]
  },
  {
   "cell_type": "code",
   "execution_count": 6,
   "metadata": {},
   "outputs": [
    {
     "name": "stdout",
     "output_type": "stream",
     "text": [
      "Replacing and Renaming columns...\n",
      "Done\n"
     ]
    }
   ],
   "source": [
    "# TODO: merge into main notebook\n",
    "def replaceAndRename(df, lookupTableNames):\n",
    "    \"\"\"\n",
    "    Replace and rename DataFrame columns in place.\n",
    "    Args:\n",
    "        df (DataFrame): DataFrame to be replaced\n",
    "        lookupTableNames (list): list of lookup table names for replacing and renaming\n",
    "    \"\"\"\n",
    "    # Call df.replace() and df.rename() once for each changing column\n",
    "    for lookupTableName in lookupTableNames:\n",
    "        oldCol, newCol = lookupTables[lookupTableName]\n",
    "        # dic: the nested dictionary required by df.replace()\n",
    "        dic = {oldCol: maps[(oldCol, newCol)]}        \n",
    "        df.replace(dic, inplace=True)\n",
    "        df.rename(columns={oldCol: newCol}, inplace=True)\n",
    "\n",
    "print('Replacing and Renaming columns...')\n",
    "replaceAndRename(PA2016['nibrs_incident'], ['nibrs_month'])\n",
    "replaceAndRename(PA2016['nibrs_offense'], ['nibrs_location_type', 'nibrs_offense_type'])\n",
    "replaceAndRename(PA2016['nibrs_offender'], ['ref_race', 'nibrs_ethnicity'])\n",
    "replaceAndRename(PA2016['nibrs_arrestee'], ['nibrs_offense_type', 'ref_race', 'nibrs_ethnicity'])\n",
    "replaceAndRename(PA2016['nibrs_victim'], ['nibrs_victim_type'])\n",
    "replaceAndRename(PA2016['nibrs_victim_offender_rel'], ['nibrs_relationship'])\n",
    "replaceAndRename(PA2016['nibrs_property'], ['nibrs_prop_loss_type'])\n",
    "replaceAndRename(PA2016['nibrs_property_desc'], ['nibrs_prop_desc_type'])\n",
    "print('Done')"
   ]
  },
  {
   "cell_type": "markdown",
   "metadata": {},
   "source": [
    "NIBRS dataset contains mostly categorical variables, so it's best to visualize them in count plots.\n",
    "\n",
    "For code modularization, here, we write a generic `countPlot()` function with several optional arguments used for different purposes."
   ]
  },
  {
   "cell_type": "code",
   "execution_count": 7,
   "metadata": {},
   "outputs": [],
   "source": [
    "def countPlot(df, col, hue=None, vertical=False, sort=True, topK=None, sortHues=False, topKHues=None):\n",
    "    \"\"\"\n",
    "    Helper function for calling sns.countplot()\n",
    "    Args:\n",
    "        df (DataFrame): DataFrame to be plotted\n",
    "        col (string): Column (categorical variable) to be counted\n",
    "        hue (string): Column (categorical variable) to be grouped by\n",
    "        vertical (bool): Vertical bars\n",
    "        sort (bool): Whether to sort bars by decreasing counts (True) or natural order (False)\n",
    "        topK (int): Keep only top K bars. None: all bars\n",
    "        sortHues (bool): Sort hues by decreasing counts (True) or natural order (False)\n",
    "        topKHues (int): Group by only top K hues. None: all hues\n",
    "    \"\"\"\n",
    "    plt.figure(figsize=(8,6), dpi=100)\n",
    "    if sort:\n",
    "        order = df[col].value_counts().index[:topK]\n",
    "    else:\n",
    "        order = sorted(df[col].unique())[:topK]\n",
    "        \n",
    "    if sortHues:\n",
    "        hueOrder = df[hue].value_counts().index[:topKHues]\n",
    "    else:\n",
    "        hueOrder = sorted(df[col].unique())[:topKHues]\n",
    "    \n",
    "    if vertical:\n",
    "        sns.countplot(data=df, x=col, order=order, hue=hue, hue_order=hueOrder)\n",
    "    else:\n",
    "        sns.countplot(data=df, y=col, order=order, hue=hue, hue_order=hueOrder)"
   ]
  },
  {
   "cell_type": "markdown",
   "metadata": {},
   "source": [
    "## Exploratory Data Analysis"
   ]
  },
  {
   "cell_type": "markdown",
   "metadata": {},
   "source": [
    "### Overview Statistics"
   ]
  },
  {
   "cell_type": "code",
   "execution_count": 8,
   "metadata": {},
   "outputs": [
    {
     "name": "stdout",
     "output_type": "stream",
     "text": [
      "PA-2016 statistics:\n",
      "  5235 incidents with 6107 offenses (1.17 per incident)\n",
      "  5928 offenders, 5930 victims (both 1.13 per incident), 2261 (38.14%) arrestees\n",
      "  4292 (81.99%) incidents involve properties\n"
     ]
    }
   ],
   "source": [
    "nIncidents = len(PA2016['nibrs_incident'])\n",
    "nOffenses = len(PA2016['nibrs_offense'])\n",
    "nOffenders = len(PA2016['nibrs_offender'])\n",
    "nArrestees = len(PA2016['nibrs_arrestee'])\n",
    "nVictims = len(PA2016['nibrs_victim'])\n",
    "nIncidentsWithProp = len(PA2016['nibrs_property']['incident_id'].unique())\n",
    "print('PA-2016 statistics:')\n",
    "print('  %d incidents with %d offenses (%.2f per incident)'\n",
    "      % (nIncidents, nOffenses, nOffenses / nIncidents))\n",
    "print('  %d offenders, %d victims (both %.2f per incident), %d (%.2f%%) arrestees'\n",
    "      % (nOffenders, nVictims, nOffenders / nIncidents,\n",
    "         nArrestees, nArrestees / nOffenders * 100))\n",
    "print('  %d (%.2f%%) incidents involve properties' %\n",
    "      (nIncidentsWithProp, nIncidentsWithProp / nIncidents * 100))"
   ]
  },
  {
   "cell_type": "markdown",
   "metadata": {},
   "source": [
    "### Merge Incident and Offense DFs\n",
    "\n",
    "Due to the schema design of the incident and offense DataFrames, it is often more convenient to \n",
    "merge them as a single DataFrame called `incident_offense`."
   ]
  },
  {
   "cell_type": "code",
   "execution_count": 9,
   "metadata": {},
   "outputs": [
    {
     "name": "stdout",
     "output_type": "stream",
     "text": [
      "len(PA2016['incident_offense']): 6107\n"
     ]
    }
   ],
   "source": [
    "PA2016['incident_offense'] = \\\n",
    "    PA2016['nibrs_incident'].merge(PA2016['nibrs_offense'], on='incident_id')\n",
    "# Indeed, all offenses map to exactly one incident\n",
    "print('len(PA2016[\\'incident_offense\\']): %d' % len(PA2016['incident_offense']))"
   ]
  },
  {
   "cell_type": "code",
   "execution_count": 10,
   "metadata": {},
   "outputs": [
    {
     "data": {
      "text/html": [
       "<div>\n",
       "<style scoped>\n",
       "    .dataframe tbody tr th:only-of-type {\n",
       "        vertical-align: middle;\n",
       "    }\n",
       "\n",
       "    .dataframe tbody tr th {\n",
       "        vertical-align: top;\n",
       "    }\n",
       "\n",
       "    .dataframe thead th {\n",
       "        text-align: right;\n",
       "    }\n",
       "</style>\n",
       "<table border=\"1\" class=\"dataframe\">\n",
       "  <thead>\n",
       "    <tr style=\"text-align: right;\">\n",
       "      <th></th>\n",
       "      <th>agency_id</th>\n",
       "      <th>incident_id</th>\n",
       "      <th>month_num</th>\n",
       "      <th>incident_number</th>\n",
       "      <th>cargo_theft_flag</th>\n",
       "      <th>submission_date</th>\n",
       "      <th>incident_date</th>\n",
       "      <th>report_date_flag</th>\n",
       "      <th>incident_hour</th>\n",
       "      <th>cleared_except_id</th>\n",
       "      <th>cleared_except_date</th>\n",
       "      <th>incident_status</th>\n",
       "      <th>data_home</th>\n",
       "      <th>ddocname</th>\n",
       "      <th>orig_format</th>\n",
       "      <th>ff_line_number_x</th>\n",
       "      <th>did</th>\n",
       "      <th>offense_id</th>\n",
       "      <th>offense_name</th>\n",
       "      <th>attempt_complete_flag</th>\n",
       "      <th>location_name</th>\n",
       "      <th>num_premises_entered</th>\n",
       "      <th>method_entry_code</th>\n",
       "      <th>ff_line_number_y</th>\n",
       "    </tr>\n",
       "  </thead>\n",
       "  <tbody>\n",
       "    <tr>\n",
       "      <th>0</th>\n",
       "      <td>16599</td>\n",
       "      <td>83457465</td>\n",
       "      <td>1</td>\n",
       "      <td>I00000431989</td>\n",
       "      <td>NaN</td>\n",
       "      <td>2017-11-06 00:00:00</td>\n",
       "      <td>2016-01-25 00:00:00</td>\n",
       "      <td>NaN</td>\n",
       "      <td>16</td>\n",
       "      <td>4</td>\n",
       "      <td>2016-01-26 00:00:00</td>\n",
       "      <td>0</td>\n",
       "      <td>C</td>\n",
       "      <td>2016_01_PA0363100_I00000431989_INC</td>\n",
       "      <td>F</td>\n",
       "      <td>NaN</td>\n",
       "      <td>2454966</td>\n",
       "      <td>91124963</td>\n",
       "      <td>Theft From Building</td>\n",
       "      <td>C</td>\n",
       "      <td>Residence/Home</td>\n",
       "      <td>NaN</td>\n",
       "      <td>NaN</td>\n",
       "      <td>NaN</td>\n",
       "    </tr>\n",
       "    <tr>\n",
       "      <th>1</th>\n",
       "      <td>16599</td>\n",
       "      <td>83457473</td>\n",
       "      <td>1</td>\n",
       "      <td>I00000432105</td>\n",
       "      <td>NaN</td>\n",
       "      <td>2017-11-06 00:00:00</td>\n",
       "      <td>2016-01-28 00:00:00</td>\n",
       "      <td>NaN</td>\n",
       "      <td>20</td>\n",
       "      <td>6</td>\n",
       "      <td>NaN</td>\n",
       "      <td>0</td>\n",
       "      <td>C</td>\n",
       "      <td>2016_01_PA0363100_I00000432105_INC</td>\n",
       "      <td>F</td>\n",
       "      <td>NaN</td>\n",
       "      <td>2454965</td>\n",
       "      <td>91124972</td>\n",
       "      <td>Drug Equipment Violations</td>\n",
       "      <td>C</td>\n",
       "      <td>Highway/Road/Ally</td>\n",
       "      <td>NaN</td>\n",
       "      <td>NaN</td>\n",
       "      <td>NaN</td>\n",
       "    </tr>\n",
       "    <tr>\n",
       "      <th>2</th>\n",
       "      <td>16599</td>\n",
       "      <td>83886692</td>\n",
       "      <td>2</td>\n",
       "      <td>I00000433344</td>\n",
       "      <td>NaN</td>\n",
       "      <td>2017-11-06 00:00:00</td>\n",
       "      <td>2016-02-27 00:00:00</td>\n",
       "      <td>NaN</td>\n",
       "      <td>16</td>\n",
       "      <td>6</td>\n",
       "      <td>NaN</td>\n",
       "      <td>0</td>\n",
       "      <td>C</td>\n",
       "      <td>2016_02_PA0363100_I00000433344_INC</td>\n",
       "      <td>F</td>\n",
       "      <td>NaN</td>\n",
       "      <td>3484972</td>\n",
       "      <td>91618994</td>\n",
       "      <td>Simple Assault</td>\n",
       "      <td>C</td>\n",
       "      <td>Parking Lot/Garage</td>\n",
       "      <td>NaN</td>\n",
       "      <td>NaN</td>\n",
       "      <td>NaN</td>\n",
       "    </tr>\n",
       "    <tr>\n",
       "      <th>3</th>\n",
       "      <td>16599</td>\n",
       "      <td>84661377</td>\n",
       "      <td>4</td>\n",
       "      <td>I00000435734</td>\n",
       "      <td>NaN</td>\n",
       "      <td>2017-11-06 00:00:00</td>\n",
       "      <td>2016-04-24 00:00:00</td>\n",
       "      <td>NaN</td>\n",
       "      <td>13</td>\n",
       "      <td>6</td>\n",
       "      <td>NaN</td>\n",
       "      <td>0</td>\n",
       "      <td>C</td>\n",
       "      <td>2016_04_PA0363100_I00000435734_INC</td>\n",
       "      <td>F</td>\n",
       "      <td>NaN</td>\n",
       "      <td>5227634</td>\n",
       "      <td>92509421</td>\n",
       "      <td>Drug Equipment Violations</td>\n",
       "      <td>C</td>\n",
       "      <td>Residence/Home</td>\n",
       "      <td>NaN</td>\n",
       "      <td>NaN</td>\n",
       "      <td>NaN</td>\n",
       "    </tr>\n",
       "    <tr>\n",
       "      <th>4</th>\n",
       "      <td>16599</td>\n",
       "      <td>84661375</td>\n",
       "      <td>5</td>\n",
       "      <td>I00000437144</td>\n",
       "      <td>NaN</td>\n",
       "      <td>2017-11-06 00:00:00</td>\n",
       "      <td>2016-05-28 00:00:00</td>\n",
       "      <td>NaN</td>\n",
       "      <td>6</td>\n",
       "      <td>6</td>\n",
       "      <td>NaN</td>\n",
       "      <td>0</td>\n",
       "      <td>C</td>\n",
       "      <td>2016_05_PA0363100_I00000437144_INC</td>\n",
       "      <td>F</td>\n",
       "      <td>NaN</td>\n",
       "      <td>5227631</td>\n",
       "      <td>92508047</td>\n",
       "      <td>Simple Assault</td>\n",
       "      <td>C</td>\n",
       "      <td>Residence/Home</td>\n",
       "      <td>NaN</td>\n",
       "      <td>NaN</td>\n",
       "      <td>NaN</td>\n",
       "    </tr>\n",
       "  </tbody>\n",
       "</table>\n",
       "</div>"
      ],
      "text/plain": [
       "   agency_id  incident_id  month_num incident_number  cargo_theft_flag  \\\n",
       "0      16599     83457465          1    I00000431989               NaN   \n",
       "1      16599     83457473          1    I00000432105               NaN   \n",
       "2      16599     83886692          2    I00000433344               NaN   \n",
       "3      16599     84661377          4    I00000435734               NaN   \n",
       "4      16599     84661375          5    I00000437144               NaN   \n",
       "\n",
       "       submission_date        incident_date report_date_flag  incident_hour  \\\n",
       "0  2017-11-06 00:00:00  2016-01-25 00:00:00              NaN             16   \n",
       "1  2017-11-06 00:00:00  2016-01-28 00:00:00              NaN             20   \n",
       "2  2017-11-06 00:00:00  2016-02-27 00:00:00              NaN             16   \n",
       "3  2017-11-06 00:00:00  2016-04-24 00:00:00              NaN             13   \n",
       "4  2017-11-06 00:00:00  2016-05-28 00:00:00              NaN              6   \n",
       "\n",
       "   cleared_except_id  cleared_except_date  incident_status data_home  \\\n",
       "0                  4  2016-01-26 00:00:00                0         C   \n",
       "1                  6                  NaN                0         C   \n",
       "2                  6                  NaN                0         C   \n",
       "3                  6                  NaN                0         C   \n",
       "4                  6                  NaN                0         C   \n",
       "\n",
       "                             ddocname orig_format  ff_line_number_x      did  \\\n",
       "0  2016_01_PA0363100_I00000431989_INC           F               NaN  2454966   \n",
       "1  2016_01_PA0363100_I00000432105_INC           F               NaN  2454965   \n",
       "2  2016_02_PA0363100_I00000433344_INC           F               NaN  3484972   \n",
       "3  2016_04_PA0363100_I00000435734_INC           F               NaN  5227634   \n",
       "4  2016_05_PA0363100_I00000437144_INC           F               NaN  5227631   \n",
       "\n",
       "   offense_id               offense_name attempt_complete_flag  \\\n",
       "0    91124963        Theft From Building                     C   \n",
       "1    91124972  Drug Equipment Violations                     C   \n",
       "2    91618994             Simple Assault                     C   \n",
       "3    92509421  Drug Equipment Violations                     C   \n",
       "4    92508047             Simple Assault                     C   \n",
       "\n",
       "        location_name  num_premises_entered method_entry_code  \\\n",
       "0      Residence/Home                   NaN               NaN   \n",
       "1   Highway/Road/Ally                   NaN               NaN   \n",
       "2  Parking Lot/Garage                   NaN               NaN   \n",
       "3      Residence/Home                   NaN               NaN   \n",
       "4      Residence/Home                   NaN               NaN   \n",
       "\n",
       "   ff_line_number_y  \n",
       "0               NaN  \n",
       "1               NaN  \n",
       "2               NaN  \n",
       "3               NaN  \n",
       "4               NaN  "
      ]
     },
     "execution_count": 10,
     "metadata": {},
     "output_type": "execute_result"
    }
   ],
   "source": [
    "PA2016['incident_offense'].head()"
   ]
  },
  {
   "cell_type": "markdown",
   "metadata": {},
   "source": [
    "Let's look at how offenses are distributed over months by a count plot."
   ]
  },
  {
   "cell_type": "code",
   "execution_count": 11,
   "metadata": {},
   "outputs": [
    {
     "data": {
      "image/png": "[encoded data removed]",
      "text/plain": [
       "<matplotlib.figure.Figure at 0x109505748>"
      ]
     },
     "metadata": {},
     "output_type": "display_data"
    }
   ],
   "source": [
    "# Offense distribution by month\n",
    "countPlot(PA2016['incident_offense'], 'month_num', vertical=True, sort=False)"
   ]
  },
  {
   "cell_type": "markdown",
   "metadata": {},
   "source": [
    "The above distribution shows some slight peak months in the summer and fall (June through October).\n",
    "\n",
    "Next, let's look at the top 20 most frequent offense types in all offenses."
   ]
  },
  {
   "cell_type": "code",
   "execution_count": 12,
   "metadata": {},
   "outputs": [
    {
     "data": {
      "image/png": "[encoded data removed]",
      "text/plain": [
       "<matplotlib.figure.Figure at 0x10f3202b0>"
      ]
     },
     "metadata": {},
     "output_type": "display_data"
    }
   ],
   "source": [
    "countPlot(PA2016['incident_offense'], 'offense_name', topK=20)"
   ]
  },
  {
   "cell_type": "markdown",
   "metadata": {},
   "source": [
    "The most frequent offense types include, roughly speaking, larceny (theft such as shoplifting), simple assult, property damage, and drug violation.\n",
    "\n",
    "We might wonder whether the monthly offense distributions agree conditioned on each offense type, so we can make a similar count plot grouped by the top 5 offense types."
   ]
  },
  {
   "cell_type": "code",
   "execution_count": 13,
   "metadata": {},
   "outputs": [
    {
     "data": {
      "image/png": "[encoded data removed]",
      "text/plain": [
       "<matplotlib.figure.Figure at 0x10f91ba90>"
      ]
     },
     "metadata": {},
     "output_type": "display_data"
    }
   ],
   "source": [
    "# Offense distribution by (offense type, month)\n",
    "countPlot(PA2016['incident_offense'], 'month_num', hue='offense_name', \\\n",
    "          vertical=True, sort=False, sortHues=True, topKHues=5)"
   ]
  },
  {
   "cell_type": "markdown",
   "metadata": {},
   "source": [
    "Interestingly, different offense types have different peak and off months. For example, Janurary is considered a off month for drug violation, but a peak month for shoplifting."
   ]
  }
 ],
 "metadata": {
  "kernelspec": {
   "display_name": "Python 3",
   "language": "python",
   "name": "python3"
  },
  "language_info": {
   "codemirror_mode": {
    "name": "ipython",
    "version": 3
   },
   "file_extension": ".py",
   "mimetype": "text/x-python",
   "name": "python",
   "nbconvert_exporter": "python",
   "pygments_lexer": "ipython3",
   "version": "3.6.5"
  }
 },
 "nbformat": 4,
 "nbformat_minor": 2
}
